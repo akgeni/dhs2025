{
 "cells": [
  {
   "cell_type": "markdown",
   "id": "94c47dd2-cc5d-4d40-b86d-dd2e28a6dc1b",
   "metadata": {},
   "source": [
    "## Multi Agent Collaborative Content Generation (DHS-2025)\n",
    "\n",
    "### Ojectives\n",
    "\n",
    "* To showcase practical example of using Agents to solve problems.\n",
    "\n",
    "* Provide a framwork which can be extended to other similar taks.\n",
    "\n",
    "* Use of Local LLMs in Agents with Groq and Ollama\n",
    "\n",
    "* Why and how of Agents.\n"
   ]
  },
  {
   "cell_type": "markdown",
   "id": "a6b2b769-6c1f-432e-be17-cd12cce0a2f6",
   "metadata": {},
   "source": [
    "\n",
    "<img src=\"assets/Lets Hack.png\" alt=\"Generator Agent\" style=\"width: 400px;\"/>\n"
   ]
  },
  {
   "cell_type": "markdown",
   "id": "b001f1b8-70d1-45c8-9e57-970a22ac684c",
   "metadata": {},
   "source": [
    "**Install these libraries**"
   ]
  },
  {
   "cell_type": "code",
   "execution_count": 1,
   "id": "5e84d59c-d112-475a-a0df-52f44013aa8d",
   "metadata": {
    "tags": []
   },
   "outputs": [],
   "source": [
    "# !pip install python-dotenv\n",
    "# !pip install pyyaml\n",
    "# !pip install openai duckduckgo-search newspaper4k lxml_html_clean agno\n",
    "# !pip install exa_py\n",
    "# !pip install -U googlesearch-python pycountry"
   ]
  },
  {
   "cell_type": "code",
   "execution_count": 13,
   "id": "8298fcbf-08c8-4a41-adc3-fdc8435c9061",
   "metadata": {
    "tags": []
   },
   "outputs": [],
   "source": [
    "!python env_set_donot_share.py"
   ]
  },
  {
   "cell_type": "code",
   "execution_count": 3,
   "id": "9b53c19c-1e67-413f-a776-0180dbe99a79",
   "metadata": {},
   "outputs": [],
   "source": [
    "## Import Helper Libraries\n",
    "\n",
    "from typing import Dict, Iterator\n",
    "from dotenv import load_dotenv\n",
    "from datetime import datetime\n",
    "from pathlib import Path\n",
    "from textwrap import dedent\n",
    "import yaml\n",
    "\n",
    "\n",
    "## Import Agno Packages\n",
    "from agno.utils.log import logger\n",
    "from agno.utils.pprint import pprint_run_response, apprint_run_response\n",
    "from agno.workflow import Workflow\n",
    "from agno.team.team import Team\n",
    "from agno.tools.googlesearch import GoogleSearchTools\n",
    "from agno.tools.duckduckgo import DuckDuckGoTools\n",
    "from agno.agent import Agent, RunResponse\n",
    "from agno.tools.exa import ExaTools\n",
    "from agno.models.ollama import Ollama, OllamaTools\n",
    "from agno.models.groq import Groq\n",
    "\n",
    "\n",
    "## Import Local Utils\n",
    "from utils import GoogleSearchSnippet\n",
    "\n",
    "\n",
    "# Load API keys and environment variables\n",
    "#load_dotenv()"
   ]
  },
  {
   "cell_type": "markdown",
   "id": "41343589-5204-47bf-aac1-c6158d581280",
   "metadata": {},
   "source": [
    "**Load LLM as brain to Agents**"
   ]
  },
  {
   "cell_type": "code",
   "execution_count": 4,
   "id": "21e5200d-4549-43cc-acc3-421373965132",
   "metadata": {},
   "outputs": [],
   "source": [
    "## Tip : Use LLMs which supports tool calls, if planning to use tools in Agents.\n",
    "\n",
    "#cogito_model = Ollama(id=\"cogito:14b-v1-preview-qwen-q4_K_M\")\n",
    "\n",
    "#qwen4b_model = Ollama(id=\"qwen3:4b-q4_K_M\")\n",
    "#qwen1b_model = Ollama(id=\"qwen3:1.7b-q4_K_M\")\n",
    "\n",
    "#qwen1b_model = Groq(id=\"qwen-qwq-32b\")\n",
    "\n",
    "deepseek_model = Groq(id=\"deepseek-r1-distill-llama-70b\")\n"
   ]
  },
  {
   "cell_type": "markdown",
   "id": "0cd726f1-1610-4829-97e8-309137f06cb2",
   "metadata": {},
   "source": [
    "**Lets start creating Agents**\n",
    "\n",
    "Building agentic solution requires to break down the complex workflow into logical groups. \n",
    "\n",
    "In real world specialized Micro agents work better.[[Micro-Agents](https://github.com/humanlayer/12-factor-agents/blob/main/content/brief-history-of-software.md)]\n",
    "\n",
    "Language models managing well-scoped sets of tasks makes it easy to incorporate"
   ]
  },
  {
   "cell_type": "markdown",
   "id": "d633f1e2-2aca-4a75-b801-80231c250441",
   "metadata": {},
   "source": [
    "### Generator Agent"
   ]
  },
  {
   "cell_type": "markdown",
   "id": "33c2f486-916a-4f63-b7e6-dbdce505edc5",
   "metadata": {},
   "source": [
    "\n",
    "\n",
    "<img src=\"assets/Generator.jpg\" alt=\"Generator Agent\" style=\"width: 300px;\"/>\n"
   ]
  },
  {
   "cell_type": "markdown",
   "id": "53beaaed-ca68-4bca-ba9d-e91d7f327317",
   "metadata": {},
   "source": [
    " "
   ]
  },
  {
   "cell_type": "markdown",
   "id": "cfac822d-a536-482a-8a7e-6b0cc3dbe0ae",
   "metadata": {},
   "source": [
    "Create a Generator Agent"
   ]
  },
  {
   "cell_type": "code",
   "execution_count": 6,
   "id": "e907428d-c8c0-4dba-b1ad-05a7fd8179ff",
   "metadata": {},
   "outputs": [],
   "source": [
    "snippet_generator = Agent(\n",
    "        name=\"SEO Expert\",\n",
    "        role=\"You are SEO Expert specialist in Ecommerce. Write SEO-optimized snippets for query.\",\n",
    "        description=\"Write contextually relevant snippet by using details from Google Search.\",\n",
    "        model=deepseek_model,\n",
    "        tools=[GoogleSearchTools()],\n",
    "        add_name_to_instructions=True,\n",
    "        debug_mode=False,\n",
    "        instructions=dedent(\"\"\"\n",
    "            You will be given a keyword for which snippets needs to be generated.\n",
    "            Include the keyword in the title and description both.\n",
    "            Keep the snippet aligned to other ecommerce snippets on Search Page.\n",
    "            Keep you response precise.\n",
    "        \"\"\"),\n",
    "    )"
   ]
  },
  {
   "cell_type": "code",
   "execution_count": null,
   "id": "8d00b3e7-28b2-4c68-bcd1-aadf175850f4",
   "metadata": {},
   "outputs": [],
   "source": []
  },
  {
   "cell_type": "markdown",
   "id": "f469cbdf-d170-4e0b-bfbc-41ec23ea3e38",
   "metadata": {},
   "source": [
    "### GuardRails Agent\n",
    "\n",
    "**Why** -> Each generated snippet need to be validated to meet the requirements\n",
    "\n",
    "1. Textual Relevance.\n",
    "2. Grounding\n",
    "3. Best Practices of SEO. (Title length, Description length, Readable, Precise)"
   ]
  },
  {
   "cell_type": "markdown",
   "id": "fb6463e2-a198-44d3-b2d5-f95430e82721",
   "metadata": {},
   "source": [
    "<img src=\"assets/GuardRails.jpg\" alt=\"Validator Agent\" style=\"width: 300px;\"/>"
   ]
  },
  {
   "cell_type": "code",
   "execution_count": 7,
   "id": "87022b49-c49e-4146-a95a-7bbd59d13645",
   "metadata": {},
   "outputs": [],
   "source": [
    "snippet_guardrails = Agent(\n",
    "        name=\"SEO and Product Expert with E-commerce experience.\",\n",
    "        role=\"Validates SEO-optimized snippets for query.\",\n",
    "        model=deepseek_model,\n",
    "        tools=[],\n",
    "        add_name_to_instructions=True,\n",
    "        instructions=dedent(\"\"\"\n",
    "            Your task is to validate the SEO-optimized snippets generated by the Snippet Generator.\n",
    "            You will be given a keyword for which snippets needs to be validated.\n",
    "            Your follow these guidelines:\n",
    "            1. Check for keyword relevance and density.\n",
    "            2. check if keyword in present in title and meta-description.\n",
    "            3. Validate the snippet's structure and readability.\n",
    "            4. Ensure the snippets adhere to SEO best practices.\n",
    "            5. Do not include any offers or promotions and urls in the snippet.\n",
    "            6. Keep your response precise.\n",
    "        \"\"\"),\n",
    "    )"
   ]
  },
  {
   "cell_type": "markdown",
   "id": "93e17369-364f-4aad-8710-3a72277f4fd5",
   "metadata": {},
   "source": [
    " "
   ]
  },
  {
   "cell_type": "markdown",
   "id": "64421c99-98e6-4406-bc12-14aeed76c92c",
   "metadata": {},
   "source": [
    "### Improver Agent\n",
    "\n",
    "**Why** -> Improver agent co-ordinates on feedback provided by GuardRails agent. It re-writes the snippet based on GuardRails Agent feedback.\n",
    "\n",
    "1. Ensures consistency and relevance.\n",
    "2. Make changes based on feedback.\n"
   ]
  },
  {
   "cell_type": "markdown",
   "id": "c9ace5c2-a9d9-405d-a451-3853a21fbe69",
   "metadata": {
    "tags": []
   },
   "source": [
    "<img src=\"assets/ImproverAgent.jpg\" alt=\"Improver Agent\" style=\"width: 300px;\"/>"
   ]
  },
  {
   "cell_type": "code",
   "execution_count": 8,
   "id": "279df6c7-2766-4825-9dde-702fc22893f8",
   "metadata": {},
   "outputs": [],
   "source": [
    "snippet_improver = Agent(\n",
    "        name=\"Snippet Improver\",\n",
    "        role=\"SEO and Product Expert with E-commerce experience. Correct the snippet for problems identified by the validator.\",\n",
    "        model=deepseek_model,\n",
    "        tools=[],\n",
    "        add_name_to_instructions=True,\n",
    "        instructions=dedent(\"\"\"\n",
    "            Your task is to Correct the snippets by considering the problems identified by the validator.\n",
    "            You will be given a snippet for which problems needs to be corrected.\n",
    "            Your follow these guidelines:\n",
    "            1. Introduce the change only for the problems identified by the validator.\n",
    "            2. Keep the snippets as close to the original as possible.\n",
    "            3. Keep you response precise.\n",
    "        \"\"\")\n",
    "    )"
   ]
  },
  {
   "cell_type": "code",
   "execution_count": null,
   "id": "93bc3017-1b52-47b5-9200-126d02d6d917",
   "metadata": {},
   "outputs": [],
   "source": []
  },
  {
   "cell_type": "markdown",
   "id": "c1f00783-392e-416e-85b5-9727447cff5c",
   "metadata": {},
   "source": [
    "### Structured Output Agent\n",
    "\n",
    "**Why** -> Make sure that output schema is consistent and valid to consume for down-stream task.\n",
    "\n",
    "1. Fixed outout for analysis and use.\n",
    "2. Help reduce in hallucination, slight compermise in output quality.\n"
   ]
  },
  {
   "cell_type": "markdown",
   "id": "42544c4b-c31b-44a0-9a4d-336cb39ae673",
   "metadata": {},
   "source": [
    "<img src=\"assets/OutputAgent.jpg\" alt=\"Output Agent\" style=\"width: 300px;\"/>"
   ]
  },
  {
   "cell_type": "code",
   "execution_count": 9,
   "id": "c44de3b8-ad87-4832-ac10-6ffe613b315f",
   "metadata": {},
   "outputs": [],
   "source": [
    "snippet_writer = Agent(\n",
    "        description=\"Write the snippet in the json format produced by snippet improver.\",\n",
    "        instructions= dedent( \"\"\" Strict output format of the snippet in the json format.\"\"\"),\n",
    "        response_model=GoogleSearchSnippet,\n",
    "        model=deepseek_model,\n",
    "        add_name_to_instructions=True,\n",
    "        role=\"Writes the snippet in the json format.\",\n",
    "    )"
   ]
  },
  {
   "cell_type": "code",
   "execution_count": null,
   "id": "4849730b-203b-4867-a93b-c694e8eac5a7",
   "metadata": {},
   "outputs": [],
   "source": []
  },
  {
   "cell_type": "markdown",
   "id": "8c1adb8b-71ca-44d9-aa09-37dbb09a3be6",
   "metadata": {},
   "source": [
    "### Team of Agent\n",
    "\n",
    "**Why** -> A coordinator agent manages the team, breaking down tasks and assigning them to appropriate specialist agents, who then collaborate to produce a final result. \n",
    "\n",
    "1. Delegation.\n",
    "2. synthesizes Team Agent outputs and create responses.\n",
    "3. Parallel / Sequential execution.\n"
   ]
  },
  {
   "cell_type": "markdown",
   "id": "6df7539f-5cdf-45f1-a446-5f5380852113",
   "metadata": {},
   "source": [
    "<img src=\"assets/Team.jpg\" alt=\"Output Agent\" style=\"width: 500px;\"/>"
   ]
  },
  {
   "cell_type": "code",
   "execution_count": 10,
   "id": "b4485510-4fba-490f-bb72-adb7928981fe",
   "metadata": {},
   "outputs": [],
   "source": [
    "class TeamWorkflow(Workflow):\n",
    "    description: str = (\n",
    "        \"Write SEO-optimized snippets for query. Which covers the query and user intents.\"\n",
    "    )\n",
    "\n",
    "    snippet_generator = snippet_generator\n",
    "    snippet_guardrails = snippet_guardrails\n",
    "    snippet_improver = snippet_improver\n",
    "    snippet_writer = snippet_writer\n",
    "    \n",
    "    agent_team = Team(\n",
    "        name=\"SEO Expert Team\",\n",
    "        mode=\"collaborate\",\n",
    "        model=deepseek_model,\n",
    "        members=[\n",
    "            snippet_generator,\n",
    "            snippet_guardrails,\n",
    "            snippet_improver,\n",
    "            snippet_writer    \n",
    "        ],\n",
    "        instructions=[\n",
    "            \"You are a coordinator.\",\n",
    "            \"Your primary role is to facilitate the snippet generation process.\",\n",
    "            \"Once team members have provided their results you should stop the discussion.\",\n",
    "            \"Do not continue the discussion after receiving the valid snippet.\",\n",
    "            \"Ensure each member provides relevant output according to the role and instructions.\",\n",
    "            \"Keep you response precise.\"\n",
    "        ],\n",
    "        success_criteria=\"The team has reached a consensus.\",\n",
    "        enable_agentic_context=True,\n",
    "        show_tool_calls=True,\n",
    "        markdown=True,\n",
    "        debug_mode=False,\n",
    "        show_members_responses=True,\n",
    "    )\n",
    "    \n",
    "    def run(self, prompt, keyword=None) -> Iterator[RunResponse]:\n",
    "        logger.info(f\"Writing snippets for {self.run_id}\")\n",
    "        discussion: RunResponse = self.agent_team.run(\n",
    "            #\"Write snippet for the keyword: \" + keyword\n",
    "            prompt + keyword\n",
    "        )\n",
    "            \n",
    "        if discussion is None:\n",
    "            yield RunResponse(\n",
    "                run_id=self.run_id, content=\"Sorry, could not generate the snippet.\"\n",
    "            )\n",
    "            return\n",
    "\n",
    "        logger.info(f\"Writing Snippet for keyword: {keyword}\")\n",
    "        yield from self.snippet_writer.run(discussion.content, stream=True)"
   ]
  },
  {
   "cell_type": "code",
   "execution_count": 21,
   "id": "40cb72ea-2892-451d-a44f-e676e3c33b64",
   "metadata": {
    "tags": []
   },
   "outputs": [],
   "source": []
  },
  {
   "cell_type": "markdown",
   "id": "59ddb801-48c2-44c0-81d7-f721a612d5f5",
   "metadata": {},
   "source": [
    "### Agents in Action"
   ]
  },
  {
   "cell_type": "code",
   "execution_count": null,
   "id": "4c929420-33e3-48e7-8581-ace9194458ec",
   "metadata": {},
   "outputs": [],
   "source": []
  },
  {
   "cell_type": "code",
   "execution_count": 22,
   "id": "1aded8cc-9260-411c-ab50-332bc639627a",
   "metadata": {},
   "outputs": [
    {
     "data": {
      "text/html": [
       "<pre style=\"white-space:pre;overflow-x:auto;line-height:normal;font-family:Menlo,'DejaVu Sans Mono',consolas,'Courier New',monospace\"><span style=\"color: #000080; text-decoration-color: #000080\">INFO</span> Writing snippets for <span style=\"color: #ffff00; text-decoration-color: #ffff00\">b26dc1c4-f540-4ba2-9ca4-64ad5b382092</span>                                                     \n",
       "</pre>\n"
      ],
      "text/plain": [
       "\u001b[34mINFO\u001b[0m Writing snippets for \u001b[93mb26dc1c4-f540-4ba2-9ca4-64ad5b382092\u001b[0m                                                     \n"
      ]
     },
     "metadata": {},
     "output_type": "display_data"
    },
    {
     "data": {
      "text/html": [
       "<pre style=\"white-space:pre;overflow-x:auto;line-height:normal;font-family:Menlo,'DejaVu Sans Mono',consolas,'Courier New',monospace\"><span style=\"color: #000080; text-decoration-color: #000080\">INFO</span> Writing Snippet for keyword: purge mask halloween                                                             \n",
       "</pre>\n"
      ],
      "text/plain": [
       "\u001b[34mINFO\u001b[0m Writing Snippet for keyword: purge mask halloween                                                             \n"
      ]
     },
     "metadata": {},
     "output_type": "display_data"
    }
   ],
   "source": [
    "report: Iterator[RunResponse] = TeamWorkflow(debug_mode=False)\\\n",
    "    .run(prompt=\"Generate snippet for keyword: \", keyword=\"purge mask halloween\")\n",
    "\n",
    "output = list(report)"
   ]
  },
  {
   "cell_type": "code",
   "execution_count": 23,
   "id": "5860c9ac-6ad1-4f4f-b8b1-b74805824b8d",
   "metadata": {
    "collapsed": true,
    "jupyter": {
     "outputs_hidden": true
    },
    "tags": []
   },
   "outputs": [
    {
     "name": "stdout",
     "output_type": "stream",
     "text": [
      "{\n",
      "    \"title\": \"Unleash Terror with Our Purge Mask This Halloween!\",\n",
      "    \"metadescription\": \"Discover the ultimate Halloween accessory with our authentic Purge mask, designed for comfort and durability. Perfect for parties, costumes, or pranks—shop now and make this Halloween unforgettable!\"\n",
      "}\n"
     ]
    }
   ],
   "source": [
    "print(output[0].content.model_dump_json(indent=4))"
   ]
  },
  {
   "cell_type": "code",
   "execution_count": null,
   "id": "da114e95-e469-4af5-90e9-599326cdc30e",
   "metadata": {},
   "outputs": [],
   "source": []
  },
  {
   "cell_type": "code",
   "execution_count": null,
   "id": "ccfa1095-f5da-4982-8f30-339b3a6f71e0",
   "metadata": {},
   "outputs": [],
   "source": []
  },
  {
   "cell_type": "code",
   "execution_count": 24,
   "id": "e8ad585a-5f6b-4584-8ab9-1b07e17d4482",
   "metadata": {
    "collapsed": true,
    "jupyter": {
     "outputs_hidden": true
    },
    "tags": []
   },
   "outputs": [
    {
     "data": {
      "text/html": [
       "<pre style=\"white-space:pre;overflow-x:auto;line-height:normal;font-family:Menlo,'DejaVu Sans Mono',consolas,'Courier New',monospace\"><span style=\"color: #000080; text-decoration-color: #000080\">INFO</span> Writing snippets for <span style=\"color: #ffff00; text-decoration-color: #ffff00\">4a7b46dc-938b-4e22-bd38-bc7e1e3da511</span>                                                     \n",
       "</pre>\n"
      ],
      "text/plain": [
       "\u001b[34mINFO\u001b[0m Writing snippets for \u001b[93m4a7b46dc-938b-4e22-bd38-bc7e1e3da511\u001b[0m                                                     \n"
      ]
     },
     "metadata": {},
     "output_type": "display_data"
    },
    {
     "data": {
      "text/html": [
       "<pre style=\"white-space:pre;overflow-x:auto;line-height:normal;font-family:Menlo,'DejaVu Sans Mono',consolas,'Courier New',monospace\"><span style=\"color: #000080; text-decoration-color: #000080\">INFO</span> Writing Snippet for keyword: decorative backsplash                                                            \n",
       "</pre>\n"
      ],
      "text/plain": [
       "\u001b[34mINFO\u001b[0m Writing Snippet for keyword: decorative backsplash                                                            \n"
      ]
     },
     "metadata": {},
     "output_type": "display_data"
    },
    {
     "name": "stdout",
     "output_type": "stream",
     "text": [
      "{\n",
      "    \"title\": \"Elevate Your Kitchen with Stunning Decorative Backsplashes\",\n",
      "    \"metadescription\": \"Discover the perfect decorative backsplash to transform your kitchen with stylish, durable options from modern glass to natural stone, combining functionality and beauty.\"\n",
      "}\n"
     ]
    }
   ],
   "source": [
    "report: Iterator[RunResponse] = TeamWorkflow(debug_mode=False)\\\n",
    "    .run(prompt=\"Generate snippet for keyword: \", keyword=\"decorative backsplash\")\n",
    "output = list(report)\n",
    "\n",
    "print(output[0].content.model_dump_json(indent=4))"
   ]
  },
  {
   "cell_type": "code",
   "execution_count": null,
   "id": "4e4252fe-e33f-422e-b6f6-a1ac8316dc19",
   "metadata": {},
   "outputs": [],
   "source": []
  },
  {
   "cell_type": "code",
   "execution_count": null,
   "id": "2b861bf5-8988-4ace-b570-f29fdc053ce6",
   "metadata": {},
   "outputs": [],
   "source": []
  },
  {
   "cell_type": "code",
   "execution_count": null,
   "id": "9f796afb-c714-4443-9abd-21aca55c3c97",
   "metadata": {},
   "outputs": [],
   "source": []
  },
  {
   "cell_type": "code",
   "execution_count": 26,
   "id": "63f4f4d8-8290-4b96-8682-4b86f7dc6b79",
   "metadata": {
    "collapsed": true,
    "jupyter": {
     "outputs_hidden": true
    },
    "tags": []
   },
   "outputs": [
    {
     "data": {
      "text/html": [
       "<pre style=\"white-space:pre;overflow-x:auto;line-height:normal;font-family:Menlo,'DejaVu Sans Mono',consolas,'Courier New',monospace\"><span style=\"color: #000080; text-decoration-color: #000080\">INFO</span> Writing snippets for <span style=\"color: #ffff00; text-decoration-color: #ffff00\">fee3b6c8-c400-47fe-9ce8-fb9a666cc311</span>                                                     \n",
       "</pre>\n"
      ],
      "text/plain": [
       "\u001b[34mINFO\u001b[0m Writing snippets for \u001b[93mfee3b6c8-c400-47fe-9ce8-fb9a666cc311\u001b[0m                                                     \n"
      ]
     },
     "metadata": {},
     "output_type": "display_data"
    },
    {
     "data": {
      "text/html": [
       "<pre style=\"white-space:pre;overflow-x:auto;line-height:normal;font-family:Menlo,'DejaVu Sans Mono',consolas,'Courier New',monospace\"><span style=\"color: #000080; text-decoration-color: #000080\">INFO</span> Writing Snippet for keyword: Disney princess toys for toddlers                                                \n",
       "</pre>\n"
      ],
      "text/plain": [
       "\u001b[34mINFO\u001b[0m Writing Snippet for keyword: Disney princess toys for toddlers                                                \n"
      ]
     },
     "metadata": {},
     "output_type": "display_data"
    },
    {
     "name": "stdout",
     "output_type": "stream",
     "text": [
      "{\n",
      "    \"title\": \"Disney Princess Toys for Toddlers | Safe & Educational\",\n",
      "    \"metadescription\": \"Discover adorable Disney Princess toys designed for toddlers. Made with safe, non-toxic materials, these toys promote imaginative play and developmental skills. Perfect for little hands and big imaginations!\"\n",
      "}\n"
     ]
    }
   ],
   "source": [
    "report: Iterator[RunResponse] = TeamWorkflow(debug_mode=False)\\\n",
    "    .run(prompt=\"Generate snippet for keyword: \", keyword=\"Disney princess toys for toddlers\")\n",
    "output = list(report)\n",
    "\n",
    "print(output[0].content.model_dump_json(indent=4))"
   ]
  },
  {
   "cell_type": "code",
   "execution_count": null,
   "id": "d3f18b2e-c032-4d39-a557-eec6d531425f",
   "metadata": {},
   "outputs": [],
   "source": []
  },
  {
   "cell_type": "code",
   "execution_count": null,
   "id": "352fff26-2397-49f1-ba06-2791112e83b3",
   "metadata": {},
   "outputs": [],
   "source": []
  },
  {
   "cell_type": "code",
   "execution_count": null,
   "id": "185d0f4c-eaf4-4cf5-8114-bd2fe997e43b",
   "metadata": {},
   "outputs": [],
   "source": []
  },
  {
   "cell_type": "code",
   "execution_count": null,
   "id": "686e8769-daab-4676-aa29-572e79c27bdf",
   "metadata": {},
   "outputs": [],
   "source": []
  },
  {
   "cell_type": "code",
   "execution_count": null,
   "id": "d4e7ae69-fbde-4424-8485-6e7365014bb6",
   "metadata": {},
   "outputs": [],
   "source": []
  },
  {
   "cell_type": "code",
   "execution_count": null,
   "id": "52f26345-7f1c-4add-ac7d-d50cd5c9dfa2",
   "metadata": {},
   "outputs": [],
   "source": []
  },
  {
   "cell_type": "code",
   "execution_count": null,
   "id": "7f884ec6-e36b-4784-b5bb-4621ce4be126",
   "metadata": {},
   "outputs": [],
   "source": []
  },
  {
   "cell_type": "code",
   "execution_count": null,
   "id": "ca676a9f-a000-4bea-a30e-c47073f89672",
   "metadata": {},
   "outputs": [],
   "source": []
  },
  {
   "cell_type": "code",
   "execution_count": null,
   "id": "a45ca7a8-e569-4c12-8fb8-3674c7eccf28",
   "metadata": {},
   "outputs": [],
   "source": []
  },
  {
   "cell_type": "code",
   "execution_count": null,
   "id": "41d09961-14e7-4e77-b80f-ebc3e176e2dd",
   "metadata": {},
   "outputs": [],
   "source": []
  },
  {
   "cell_type": "code",
   "execution_count": null,
   "id": "c4aa6b21-02e6-4c23-8f9f-5ef294b85084",
   "metadata": {},
   "outputs": [],
   "source": []
  }
 ],
 "metadata": {
  "kernelspec": {
   "display_name": "Python 3 (ipykernel)",
   "language": "python",
   "name": "python3"
  },
  "language_info": {
   "codemirror_mode": {
    "name": "ipython",
    "version": 3
   },
   "file_extension": ".py",
   "mimetype": "text/x-python",
   "name": "python",
   "nbconvert_exporter": "python",
   "pygments_lexer": "ipython3",
   "version": "3.10.4"
  }
 },
 "nbformat": 4,
 "nbformat_minor": 5
}
